{
 "cells": [
  {
   "cell_type": "code",
   "execution_count": null,
   "metadata": {},
   "outputs": [],
   "source": [
    "# Dependencies\n",
    "from pathlib import Path\n",
    "from docling.backend.pypdfium2_backend import PyPdfiumDocumentBackend\n",
    "from docling.backend.msword_backend import MsWordDocumentBackend\n",
    "from docling.datamodel.base_models import InputFormat\n",
    "from docling.document_converter import (\n",
    "    DocumentConverter,\n",
    "    PdfFormatOption,\n",
    "    WordFormatOption,\n",
    ")\n",
    "from docling.pipeline.simple_pipeline import SimplePipeline\n",
    "from docling.pipeline.standard_pdf_pipeline import StandardPdfPipeline"
   ]
  },
  {
   "cell_type": "code",
   "execution_count": null,
   "metadata": {},
   "outputs": [],
   "source": [
    "# Checking the pathes \n",
    "from pathlib import Path\n",
    "\n",
    "folder_path = Path(\"data/pdfs/\")\n",
    "input_paths = []\n",
    "for file_path in folder_path.rglob(\"*\"):\n",
    "    input_paths.append(file_path)\n",
    "    print(file_path)\n",
    "print(len(input_paths))    "
   ]
  },
  {
   "cell_type": "markdown",
   "metadata": {},
   "source": [
    "# Run Converter"
   ]
  },
  {
   "cell_type": "code",
   "execution_count": null,
   "metadata": {},
   "outputs": [],
   "source": [
    "# Leaving full customization to show possibilities\n",
    "\n",
    "doc_converter = (\n",
    "        DocumentConverter(  # all of the below is optional, has internal defaults.\n",
    "            allowed_formats=[\n",
    "                InputFormat.PDF,\n",
    "                InputFormat.IMAGE,\n",
    "                InputFormat.DOCX,\n",
    "                InputFormat.HTML,\n",
    "                InputFormat.PPTX,\n",
    "                InputFormat.ASCIIDOC,\n",
    "                InputFormat.MD,\n",
    "            ],  # whitelist formats, non-matching files are ignored.\n",
    "            format_options={\n",
    "                InputFormat.PDF: PdfFormatOption(\n",
    "                    pipeline_cls=StandardPdfPipeline, backend=PyPdfiumDocumentBackend\n",
    "                ),\n",
    "                InputFormat.DOCX: WordFormatOption(\n",
    "                    pipeline_cls=SimplePipeline, backend=MsWordDocumentBackend\n",
    "                ),\n",
    "            },\n",
    "        )\n",
    "    )"
   ]
  },
  {
   "cell_type": "markdown",
   "metadata": {},
   "source": [
    "# Different Conversion Process with PDF"
   ]
  },
  {
   "cell_type": "code",
   "execution_count": null,
   "metadata": {},
   "outputs": [],
   "source": [
    "#Convert and write\n",
    "\n",
    "conv_results = doc_converter.convert_all(input_paths)\n",
    "\n",
    "for res in conv_results:\n",
    "    out_path = Path(\"data/output/\")\n",
    "    print(\n",
    "        f\"Document {res.input.file.name} converted.\"\n",
    "        f\"\\nSaved markdown output to: {str(out_path)}\"\n",
    "    )\n",
    "\n",
    "    # Export Docling document format to markdowndoc:\n",
    "    with (out_path / f\"{res.input.file.stem}.md\").open(\"w\") as fp:\n",
    "        fp.write(res.document.export_to_markdown())"
   ]
  },
  {
   "cell_type": "code",
   "execution_count": null,
   "metadata": {},
   "outputs": [],
   "source": [
    "# large file (~70 page pdf with multiple tables/images) and much longer run time"
   ]
  },
  {
   "cell_type": "code",
   "execution_count": null,
   "metadata": {},
   "outputs": [],
   "source": []
  }
 ],
 "metadata": {
  "kernelspec": {
   "display_name": ".venv",
   "language": "python",
   "name": "python3"
  },
  "language_info": {
   "codemirror_mode": {
    "name": "ipython",
    "version": 3
   },
   "file_extension": ".py",
   "mimetype": "text/x-python",
   "name": "python",
   "nbconvert_exporter": "python",
   "pygments_lexer": "ipython3",
   "version": "3.11.5"
  }
 },
 "nbformat": 4,
 "nbformat_minor": 2
}
